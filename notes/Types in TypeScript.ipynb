{
 "cells": [
  {
   "cell_type": "markdown",
   "id": "3e6283db-4885-48fc-bbb6-805d5c06ffb1",
   "metadata": {},
   "source": [
    "# Any\n",
    "Any makes the value behave like any it would in regular JavaScript, and totally prevent the type checker from working its magic."
   ]
  },
  {
   "cell_type": "code",
   "execution_count": 4,
   "id": "32fd03e1-d64b-4ee6-84bd-c61d77f4c8ee",
   "metadata": {},
   "outputs": [
    {
     "name": "stdout",
     "output_type": "stream",
     "text": [
      "100danger\n"
     ]
    }
   ],
   "source": [
    "let a: any = 100;\n",
    "let b: any = ['danger'];\n",
    "let c = a + b;\n",
    "console.log(c);"
   ]
  },
  {
   "cell_type": "markdown",
   "id": "18941174-17b3-4909-9282-8a622556235b",
   "metadata": {},
   "source": [
    "# Unknown\n",
    "For a few cases, we have a value whose type we don't know ahead of time, then instead of using `any` we should use `unknown`. TypeScript won't let us use  an `unknown` type until we refine it by checking what it is.\n",
    "1. TypeScript will never infer something as `unknown` (a)\n",
    "2. We can compare values to values that are of type `unknown` (b)\n",
    "3. We can't do things that assume an `unknown` value is of a specific type (c); we have to prove to TypeScript that the value really is of that type first (d)."
   ]
  },
  {
   "cell_type": "code",
   "execution_count": 5,
   "id": "3d6fcac3-317d-4161-9c99-8824148a0183",
   "metadata": {},
   "outputs": [
    {
     "name": "stderr",
     "output_type": "stream",
     "text": [
      "3:9 - Operator '+' cannot be applied to types 'unknown' and '10'.\n"
     ]
    }
   ],
   "source": [
    "let a: unknown = 30;\n",
    "let b = a === 123;\n",
    "let c = a + 10;"
   ]
  },
  {
   "cell_type": "code",
   "execution_count": 9,
   "id": "0a2244e2-6563-4d4d-b1df-0dc4e4fbd73d",
   "metadata": {},
   "outputs": [
    {
     "name": "stdout",
     "output_type": "stream",
     "text": [
      "40\n"
     ]
    }
   ],
   "source": [
    "let a: unknown = 30;\n",
    "let b = a === 123;\n",
    "\n",
    "if (typeof a === 'number') {\n",
    "    let d = a + 10;\n",
    "    console.log(d);\n",
    "}"
   ]
  },
  {
   "cell_type": "markdown",
   "id": "1424a084-97e5-430d-8d81-2ba1913abcd2",
   "metadata": {},
   "source": [
    "# Boolean\n",
    "The `boolean` type has two values: `true` and `false`. We can declare a variable as `boolean` with the following syntax,"
   ]
  },
  {
   "cell_type": "code",
   "execution_count": 15,
   "id": "fda1ded8-4a8e-4d77-8245-be4e6b19cede",
   "metadata": {},
   "outputs": [],
   "source": [
    "let a = true; // boolean\n",
    "let b = false; //boolean\n",
    "const c = true; // true\n",
    "let d: boolean = true; // boolean\n",
    "let e: true = true; // true"
   ]
  },
  {
   "cell_type": "markdown",
   "id": "f2998d62-6c76-468b-bb79-82f94e2785c5",
   "metadata": {},
   "source": [
    "# Number\n",
    "`number` is a set of all number: `integers`, `floats`, `positives`, `negatives`, `Infinity`, `NaN`, and so on."
   ]
  },
  {
   "cell_type": "code",
   "execution_count": 16,
   "id": "ab426400-faa0-4d26-93bf-823597cf9e1f",
   "metadata": {},
   "outputs": [],
   "source": [
    "let a = 1234; // number\n",
    "let b = Infinity * 0.10 // number\n",
    "const c = 5678; // 5678\n",
    "let d: number = 100; // number\n",
    "let e: 26.218 = 26.218; // 26.218"
   ]
  },
  {
   "cell_type": "markdown",
   "id": "3992d638-b14f-4b88-8172-6ca2e754e93a",
   "metadata": {},
   "source": [
    "# Big Integer\n",
    "`bigint` is a newcomer to JavaScript and TypeScript. It lets us work with large integers without running into rounding errors. While the `number` can only represent whole numbers up to 2^53, `bigint` can represent integers bigger than that too."
   ]
  },
  {
   "cell_type": "code",
   "execution_count": 17,
   "id": "38750eb1-6fed-45a1-b8f2-5203e5c81142",
   "metadata": {},
   "outputs": [],
   "source": [
    "let a = 12345n; // bigint\n",
    "const b = 5678n; // bigint\n",
    "var c = a + b; // bigint\n",
    "let d = a < 1234; // boolean\n",
    "let e: bigint = 100n; // bigint\n",
    "let f: 100n = 100n; // 100n"
   ]
  },
  {
   "cell_type": "markdown",
   "id": "8fea4240-92e2-4ad2-80be-04027274d782",
   "metadata": {},
   "source": [
    "Normal `integer` value cannot be assigned to `bigint`."
   ]
  },
  {
   "cell_type": "code",
   "execution_count": 18,
   "id": "688c6a14-40e5-4efb-b5a5-8c84a27d416e",
   "metadata": {},
   "outputs": [
    {
     "name": "stderr",
     "output_type": "stream",
     "text": [
      "1:5 - Type 'number' is not assignable to type 'bigint'.\n"
     ]
    }
   ],
   "source": [
    "let a: bigint = 100;"
   ]
  },
  {
   "cell_type": "markdown",
   "id": "e31994aa-d0dd-4a8f-bcbb-a4f1b10661e6",
   "metadata": {},
   "source": [
    "# String\n",
    "`string` is the set of all strings."
   ]
  },
  {
   "cell_type": "code",
   "execution_count": 19,
   "id": "fc044e6a-7701-430b-91b0-d1c1675a8482",
   "metadata": {},
   "outputs": [],
   "source": [
    "let a = 'hello'; // string\n",
    "const b = 'world'; // string\n",
    "const c = '!'; // !\n",
    "let d = a + ' ' + b + c; // string\n",
    "let e: string = 'James Bond'; // string\n",
    "let f: 'John' = 'John'; // John"
   ]
  },
  {
   "cell_type": "markdown",
   "id": "265f61a9-aca1-4af6-87bd-7a78f64be41c",
   "metadata": {},
   "source": [
    "# Objects\n",
    "TypeScript's object types specify the shapes of objects. Notably, they can't tell the difference between simple objects (like the kind we make with `{}`) and more complicated ones (the kind we create with `new Blah`).\n",
    "There are a few ways to use types to describe objects in TypeScript. The first is to declare a value as an object:"
   ]
  },
  {
   "cell_type": "code",
   "execution_count": 20,
   "id": "ef914816-1f05-4918-b3fd-8f0e48893515",
   "metadata": {},
   "outputs": [],
   "source": [
    "let a: object = {\n",
    "    b: 'x'\n",
    "};"
   ]
  },
  {
   "cell_type": "markdown",
   "id": "1e378716-6905-4e0d-9e9b-9eb590deae07",
   "metadata": {},
   "source": [
    "What happens we we try accessing `b` on `a`?"
   ]
  },
  {
   "cell_type": "code",
   "execution_count": 22,
   "id": "496baafe-7b0a-4171-8677-efc767930e7e",
   "metadata": {},
   "outputs": [
    {
     "name": "stderr",
     "output_type": "stream",
     "text": [
      "1:3 - Property 'b' does not exist on type 'object'.\n"
     ]
    }
   ],
   "source": [
    "a.b;"
   ]
  },
  {
   "cell_type": "markdown",
   "id": "14ab2d4c-7c14-49dc-8ef3-b9cca2b1fef6",
   "metadata": {},
   "source": [
    "`object` is a little narrower than `any`, but not by much. `object` doesn't tell us a lot about the value it describes, just that the value is a JavaScript `object`.\n",
    "What if we leave off the explicit annotation, and let TypeScript do its thing?"
   ]
  },
  {
   "cell_type": "code",
   "execution_count": 25,
   "id": "083bcd2c-bffc-4cab-9183-b4894f1f5d2a",
   "metadata": {},
   "outputs": [
    {
     "name": "stdout",
     "output_type": "stream",
     "text": [
      "x\n"
     ]
    }
   ],
   "source": [
    "let a = {\n",
    "    b: 'x'\n",
    "};\n",
    "\n",
    "a.b;"
   ]
  },
  {
   "cell_type": "markdown",
   "id": "9cd641c7-7ab2-4285-a258-54d1520d55b7",
   "metadata": {},
   "source": [
    "We can either let TypeScript infer our `object`'s shape for us, or explicitly describe it inside curly braces `{}`:"
   ]
  },
  {
   "cell_type": "code",
   "execution_count": 26,
   "id": "02caf818-1054-427f-aebf-b6959f56222d",
   "metadata": {},
   "outputs": [],
   "source": [
    "let a: {b: number} = {\n",
    "    b: 12\n",
    "}"
   ]
  },
  {
   "cell_type": "markdown",
   "id": "e5dd9f11-c635-462b-87a3-a5d2890a3cc8",
   "metadata": {},
   "source": [
    "Object literal syntax says, \"here is a thing that has this shape.\" The thing might be an object literal, or it might be a class:"
   ]
  },
  {
   "cell_type": "code",
   "execution_count": 27,
   "id": "092fe186-45b1-4aba-ad78-3c22f0c38909",
   "metadata": {},
   "outputs": [],
   "source": [
    "let c: {\n",
    "    firstName: string,\n",
    "    lastName: string\n",
    "} = {\n",
    "    firstName: 'John',\n",
    "    lastName: 'Doe'\n",
    "};"
   ]
  },
  {
   "cell_type": "code",
   "execution_count": 28,
   "id": "74516242-1249-4284-8b0e-fce9bbdee8fa",
   "metadata": {},
   "outputs": [
    {
     "name": "stdout",
     "output_type": "stream",
     "text": [
      "Person { firstName: 'James', lastName: 'Bond' }\n"
     ]
    }
   ],
   "source": [
    "class Person {\n",
    "    constructor (\n",
    "        public firstName: string,\n",
    "        public lastName: string\n",
    "    ) {}\n",
    "}\n",
    "\n",
    "c = new Person('James', 'Bond')"
   ]
  },
  {
   "cell_type": "markdown",
   "id": "dc8ee230-5303-4f42-9ed9-d04885c51e9a",
   "metadata": {},
   "source": [
    "Let's explore what happens when add an extra property or leave out required ones:"
   ]
  },
  {
   "cell_type": "code",
   "execution_count": 29,
   "id": "76235644-bad4-41f7-885b-9d772f99a4c0",
   "metadata": {},
   "outputs": [
    {
     "name": "stderr",
     "output_type": "stream",
     "text": [
      "3:1 - Property 'b' is missing in type '{}' but required in type '{ b: number; }'.\n"
     ]
    }
   ],
   "source": [
    "let a: {b: number};\n",
    "\n",
    "a = {};"
   ]
  },
  {
   "cell_type": "code",
   "execution_count": 30,
   "id": "9e88fe27-bf31-4014-9dfd-8885fb9d0448",
   "metadata": {},
   "outputs": [
    {
     "name": "stderr",
     "output_type": "stream",
     "text": [
      "3:5 - Type '{ b: number; c: number; }' is not assignable to type '{ b: number; }'.\n",
      "3:5 - Object literal may only specify known properties, and 'c' does not exist in type '{ b: number; }'.\n"
     ]
    }
   ],
   "source": [
    "a = {\n",
    "    b: 12,\n",
    "    c: 1\n",
    "}"
   ]
  },
  {
   "cell_type": "markdown",
   "id": "c7426a5d-6fe6-42f2-a7be-32dde05e461e",
   "metadata": {},
   "source": [
    "By default, TypeScript is pretty strict about `object` properties -- if we say the object should have a property called `b` that's a `number`, TypeScript expects `b` and only `b`. If `b` is missing, or if there are extra properties, TypeScript will complain."
   ]
  },
  {
   "cell_type": "markdown",
   "id": "c1a9f163-1711-4d79-b506-4a4082ed1092",
   "metadata": {},
   "source": [
    "We can specify extra/optional properties with the following syntax:"
   ]
  },
  {
   "cell_type": "code",
   "execution_count": 31,
   "id": "76d99201-5a87-4d5c-af7b-d0d26ce76382",
   "metadata": {},
   "outputs": [],
   "source": [
    "let a: {\n",
    "    b: number,\n",
    "    c?: string,\n",
    "    [key: number]: boolean\n",
    "};"
   ]
  },
  {
   "cell_type": "markdown",
   "id": "c167542e-14f5-4598-94f4-7821b99a9012",
   "metadata": {},
   "source": [
    "This will be interpreted as,\n",
    "1. `a` has a property `b` that's a `number`\n",
    "2. `a` might have property `c` that's a `string`. And if `c` is not set, it might be `undefined`\n",
    "3. `a` might have any number of numeric properties that are `boolean`"
   ]
  },
  {
   "cell_type": "code",
   "execution_count": 35,
   "id": "04b213c2-caf1-4d5c-9832-96cbe5e76751",
   "metadata": {},
   "outputs": [
    {
     "name": "stdout",
     "output_type": "stream",
     "text": [
      "{ b: 1 }\n"
     ]
    }
   ],
   "source": [
    "a = {b: 1}"
   ]
  },
  {
   "cell_type": "code",
   "execution_count": 36,
   "id": "0cb61c0c-d5f9-4fb9-939c-dbafbfbe0e2f",
   "metadata": {},
   "outputs": [
    {
     "name": "stdout",
     "output_type": "stream",
     "text": [
      "{ b: 1, c: 'd' }\n"
     ]
    }
   ],
   "source": [
    "a = {b: 1, c: 'd'}"
   ]
  },
  {
   "cell_type": "code",
   "execution_count": 37,
   "id": "23ee22ab-cb97-47b7-a029-180385e9d944",
   "metadata": {},
   "outputs": [
    {
     "name": "stdout",
     "output_type": "stream",
     "text": [
      "{ '10': true, b: 1 }\n"
     ]
    }
   ],
   "source": [
    "a = {b: 1, 10: true}"
   ]
  },
  {
   "cell_type": "code",
   "execution_count": 38,
   "id": "4318ce6d-60f4-40e2-951f-1a19cb3abe9a",
   "metadata": {},
   "outputs": [
    {
     "name": "stdout",
     "output_type": "stream",
     "text": [
      "{ '10': true, '20': false, b: 1 }\n"
     ]
    }
   ],
   "source": [
    "a = {b: 1, 10: true, 20: false}"
   ]
  },
  {
   "cell_type": "code",
   "execution_count": 39,
   "id": "41fac118-aa3a-44b5-a37a-f562cc6bef19",
   "metadata": {},
   "outputs": [
    {
     "name": "stderr",
     "output_type": "stream",
     "text": [
      "1:1 - Property 'b' is missing in type '{ 10: true; }' but required in type '{ [key: number]: boolean; b: number; c?: string; }'.\n"
     ]
    }
   ],
   "source": [
    "a = {10: true}"
   ]
  },
  {
   "cell_type": "markdown",
   "id": "4d05f2e6-1ad0-41ad-a60c-0cf4fb86b4ee",
   "metadata": {},
   "source": [
    "The `[key T]: U` syntax is called an *index signature*, and this is the way we tell TypeScript that the given object might contain more keys. The way to read it is, \"For this object, all keys of type `T` must have values of type `U`.\"\n",
    "\n",
    "There is one rule to keep in mind for index signatures: the index signature key's type (`T`) must be assignable to either `number` or `integer`."
   ]
  },
  {
   "cell_type": "markdown",
   "id": "aa2471f6-157b-47f0-8e8e-49c17cdd63ed",
   "metadata": {},
   "source": [
    "We can also mark the field as read-only (that is, we can declare that a field can't be modified after it's assigned an initial value -- kind of like `const` for object properties) with the `readyonly` modifier:"
   ]
  },
  {
   "cell_type": "code",
   "execution_count": 40,
   "id": "b144f1ec-bdf3-453f-8f62-f62129701159",
   "metadata": {},
   "outputs": [],
   "source": [
    "let user: {\n",
    "    readonly firstName: string\n",
    "} = {\n",
    "    firstName: 'Jimmy'\n",
    "};"
   ]
  },
  {
   "cell_type": "code",
   "execution_count": 41,
   "id": "b6d3321c-9ae6-41a2-8377-671a2405b2a1",
   "metadata": {},
   "outputs": [
    {
     "name": "stdout",
     "output_type": "stream",
     "text": [
      "Jimmy\n"
     ]
    }
   ],
   "source": [
    "user.firstName"
   ]
  },
  {
   "cell_type": "code",
   "execution_count": 42,
   "id": "a489c1fa-0ec1-4f78-bcbb-be1dbc3ce64b",
   "metadata": {},
   "outputs": [
    {
     "name": "stderr",
     "output_type": "stream",
     "text": [
      "1:6 - Cannot assign to 'firstName' because it is a read-only property.\n"
     ]
    }
   ],
   "source": [
    "user.firstName = 'Sam';"
   ]
  }
 ],
 "metadata": {
  "kernelspec": {
   "display_name": "TypeScript",
   "language": "typescript",
   "name": "tslab"
  },
  "language_info": {
   "codemirror_mode": {
    "mode": "typescript",
    "name": "javascript",
    "typescript": true
   },
   "file_extension": ".ts",
   "mimetype": "text/typescript",
   "name": "typescript",
   "version": "3.7.2"
  }
 },
 "nbformat": 4,
 "nbformat_minor": 5
}
